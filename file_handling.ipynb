{
 "cells": [
  {
   "cell_type": "markdown",
   "metadata": {},
   "source": [
    "<h2>File handling</h2>\n"
   ]
  },
  {
   "cell_type": "code",
   "execution_count": 13,
   "metadata": {},
   "outputs": [],
   "source": [
    "\"Location of file\"\n",
    "p = \"C:\\\\Users\\\\IITM\\\\Desktop\\\\file2.txt\"\n",
    "# Note:file2.txt contains a,b,c,d strings on each line.for example line 1 contain 'a' . line 2 contain 'b'\n",
    "# and so on.."
   ]
  },
  {
   "cell_type": "markdown",
   "metadata": {},
   "source": [
    "<H3> \"read_method\" </H3>\n"
   ]
  },
  {
   "cell_type": "code",
   "execution_count": 4,
   "metadata": {},
   "outputs": [
    {
     "name": "stdout",
     "output_type": "stream",
     "text": [
      "--------------read_method------------\n",
      "a\n",
      "b\n",
      "c\n",
      "d\n",
      "\n",
      "-------------read_method1--------------\n",
      "a\n",
      "\n",
      "b\n",
      "\n",
      "c\n",
      "\n",
      "d\n",
      "\n"
     ]
    }
   ],
   "source": [
    "def read_method(filename):\n",
    "    f = open(filename)  # default mode is 'r'\n",
    "    file_con = f.read()\n",
    "    # read() : This function reads the entire file and returns a string\n",
    "    print(\"--------------read_method------------\")\n",
    "    print(file_con)\n",
    "\n",
    "\n",
    "read_method(filename=p)\n",
    "\n",
    "\"second method\"\n",
    "\n",
    "\n",
    "def read_method1(filename):\n",
    "    f = open(filename)  # default mode is 'r'\n",
    "    print(\"-------------read_method1--------------\")\n",
    "    for line in f:\n",
    "        print(line)\n",
    "\n",
    "\n",
    "read_method1(filename=p)\n",
    "# see the difference of output of read_method and read_method1"
   ]
  },
  {
   "cell_type": "markdown",
   "metadata": {},
   "source": [
    "<H3> \"readline:\"</H3>\n",
    "this read the first line\n"
   ]
  },
  {
   "cell_type": "code",
   "execution_count": 5,
   "metadata": {},
   "outputs": [
    {
     "name": "stdout",
     "output_type": "stream",
     "text": [
      "--------------read_line--------------------\n",
      "a\n",
      "\n"
     ]
    }
   ],
   "source": [
    "def read_line(filename):\n",
    "    f = open(filename)\n",
    "    file_con = f.readline()  # this read the first line\n",
    "    print(\"--------------read_line--------------------\")\n",
    "    print(file_con)\n",
    "\n",
    "\n",
    "read_line(filename=p)"
   ]
  },
  {
   "cell_type": "markdown",
   "metadata": {},
   "source": [
    "<H3>\"readlines\"</H3>\n",
    "This method stores each line of file in list variable with newline character\n"
   ]
  },
  {
   "cell_type": "code",
   "execution_count": 6,
   "metadata": {},
   "outputs": [
    {
     "name": "stdout",
     "output_type": "stream",
     "text": [
      "---------------read_lines-----------\n",
      "['a\\n', 'b\\n', 'c\\n', 'd\\n']\n"
     ]
    }
   ],
   "source": [
    "def read_lines(filename):\n",
    "    f = open(filename)\n",
    "    file_method = f.readlines()\n",
    "    print(\"---------------read_lines-----------\")\n",
    "    # This method stores each line of file in list variable with newline character\n",
    "    print(file_method)\n",
    "\n",
    "\n",
    "read_lines(filename=p)"
   ]
  },
  {
   "cell_type": "markdown",
   "metadata": {},
   "source": [
    "<h5>To avoid  newline use splitlines() with read()</h5>\n"
   ]
  },
  {
   "cell_type": "code",
   "execution_count": 7,
   "metadata": {},
   "outputs": [
    {
     "name": "stdout",
     "output_type": "stream",
     "text": [
      "--------------read_lines1------------\n",
      "['a', 'b', 'c', 'd']\n"
     ]
    }
   ],
   "source": [
    "def read_lines1(filename):\n",
    "    f = open(filename)\n",
    "    print(\"--------------read_lines1------------\")\n",
    "    file_method = f.read().splitlines()\n",
    "    print(file_method)\n",
    "\n",
    "\n",
    "read_lines1(filename=p)"
   ]
  },
  {
   "cell_type": "markdown",
   "metadata": {},
   "source": [
    "<H3>\"write_method\"</H3>\n",
    "r+ means read and write method\n",
    "r+ don't erase the entire content of file,but it updates.Also to read content we have to use seek() to read from beginning\n"
   ]
  },
  {
   "cell_type": "code",
   "execution_count": 8,
   "metadata": {},
   "outputs": [
    {
     "name": "stdout",
     "output_type": "stream",
     "text": [
      "-------------write_method-------------\n",
      "nano\n",
      "c\n",
      "d\n",
      "\n"
     ]
    }
   ],
   "source": [
    "def write_method(filename):\n",
    "    f = open(filename, \"r+\")\n",
    "    # r+ means read and write method\n",
    "    # r+ don't erase the entire content of file,but it updates.Also to read content we have to use seek()\n",
    "    # to read from beginning\n",
    "    f.write(\"nano\")\n",
    "    print(\"-------------write_method-------------\")\n",
    "    f.seek(0)\n",
    "    file_content = f.read()\n",
    "    print(file_content)\n",
    "\n",
    "\n",
    "write_method(filename=p)"
   ]
  },
  {
   "cell_type": "markdown",
   "metadata": {},
   "source": [
    "<h4>\"another method which delete entire file content and write single string\"</h4>\n"
   ]
  },
  {
   "cell_type": "code",
   "execution_count": 9,
   "metadata": {},
   "outputs": [
    {
     "name": "stdout",
     "output_type": "stream",
     "text": [
      "--------------write_method1---------------\n",
      "Tesla\n"
     ]
    }
   ],
   "source": [
    "def write_method1(filename):\n",
    "    f = open(filename, \"w\")  # write only\n",
    "    # using write() with w mode deletes the entire file content\n",
    "    f.write(\"Tesla\")\n",
    "    print(\"--------------write_method1---------------\")\n",
    "    f = open(filename)\n",
    "    file_method = f.read()\n",
    "    print(file_method)\n",
    "\n",
    "\n",
    "write_method1(filename=p)"
   ]
  },
  {
   "cell_type": "markdown",
   "metadata": {},
   "source": [
    "<H3>\"writelines\"</H3>\n"
   ]
  },
  {
   "cell_type": "code",
   "execution_count": 10,
   "metadata": {},
   "outputs": [
    {
     "name": "stdout",
     "output_type": "stream",
     "text": [
      "----------------writelines_method-------------\n",
      "Gypsy\n",
      "Ferrari\n",
      "Polo\n",
      "\n"
     ]
    }
   ],
   "source": [
    "def writelines_method(filename):\n",
    "    f = open(filename, \"r+\")\n",
    "    lst = [\"Gypsy\\n\", \"Ferrari\\n\", \"Polo\\n\"]\n",
    "    for data in lst:\n",
    "        f.writelines(data)\n",
    "        # writelines()\n",
    "    print(\"----------------writelines_method-------------\")\n",
    "    f.seek(0)\n",
    "    file_content = f.read()\n",
    "    print(file_content)\n",
    "\n",
    "\n",
    "writelines_method(filename=p)"
   ]
  },
  {
   "cell_type": "markdown",
   "metadata": {},
   "source": [
    "<H4>\"Another method,same result by write\"</H4>\n"
   ]
  },
  {
   "cell_type": "code",
   "execution_count": 11,
   "metadata": {},
   "outputs": [
    {
     "name": "stdout",
     "output_type": "stream",
     "text": [
      "----------------write_method1-------------\n",
      "Gypsy\n",
      "Ferrari\n",
      "Polo\n",
      "\n"
     ]
    }
   ],
   "source": [
    "def writelines_method1(filename):\n",
    "    f = open(filename, \"r+\")\n",
    "    lst = [\"Gypsy\", \"Ferrari\", \"Polo\"]\n",
    "    for data in lst:\n",
    "        f.write(data)\n",
    "        f.write(\"\\n\")\n",
    "    print(\"----------------write_method1-------------\")\n",
    "    f.seek(0)\n",
    "    file_content = f.read()\n",
    "    print(file_content)\n",
    "\n",
    "\n",
    "writelines_method1(filename=p)"
   ]
  },
  {
   "cell_type": "markdown",
   "metadata": {},
   "source": [
    "<H3>\"append mode\"</h3>\n",
    "a mode write file from last\n"
   ]
  },
  {
   "cell_type": "code",
   "execution_count": 12,
   "metadata": {},
   "outputs": [
    {
     "name": "stdout",
     "output_type": "stream",
     "text": [
      "---------------append_method-------------\n",
      "Gypsy\n",
      "Ferrari\n",
      "Polo\n",
      "d\n",
      "F\n",
      "P\n",
      "\n"
     ]
    }
   ],
   "source": [
    "def writelines_method2(filename):\n",
    "    f = open(filename, \"a\")\n",
    "    # a mode write file from last\n",
    "    lst = [\"d\", \"F\", \"P\"]\n",
    "    for data in lst:\n",
    "        f.write(data)\n",
    "        f.write(\"\\n\")\n",
    "    print(\"---------------append_method-------------\")\n",
    "    f.seek(0)\n",
    "    f = open(filename)\n",
    "    file_content = f.read()\n",
    "    print(file_content)\n",
    "\n",
    "\n",
    "writelines_method2(filename=p)"
   ]
  },
  {
   "cell_type": "markdown",
   "metadata": {},
   "source": []
  }
 ],
 "metadata": {
  "kernelspec": {
   "display_name": "Python 3",
   "language": "python",
   "name": "python3"
  },
  "language_info": {
   "codemirror_mode": {
    "name": "ipython",
    "version": 3
   },
   "file_extension": ".py",
   "mimetype": "text/x-python",
   "name": "python",
   "nbconvert_exporter": "python",
   "pygments_lexer": "ipython3",
   "version": "3.11.8"
  }
 },
 "nbformat": 4,
 "nbformat_minor": 2
}
