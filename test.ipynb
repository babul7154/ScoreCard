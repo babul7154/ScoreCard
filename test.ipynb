{
 "cells": [
  {
   "cell_type": "code",
   "execution_count": 5,
   "metadata": {},
   "outputs": [
    {
     "name": "stdout",
     "output_type": "stream",
     "text": [
      "['Name', 'Age']\n",
      "['Arti', '20']\n",
      "['Kalam', '60']\n",
      "['Atul', '25']\n",
      "['Krishnan', '24']\n",
      "['Sahana', '20']\n"
     ]
    }
   ],
   "source": [
    "import csv\n",
    "\n",
    "file_1 = \"C:\\\\Users\\\\IITM\\\\Documents\\\\iitm python\\\\ncsv.csv\"\n",
    "f = open(file_1)\n",
    "file_content = csv.reader(f)\n",
    "for row in file_content:\n",
    "    print(row)"
   ]
  },
  {
   "cell_type": "code",
   "execution_count": null,
   "metadata": {},
   "outputs": [],
   "source": []
  }
 ],
 "metadata": {
  "kernelspec": {
   "display_name": "Python 3",
   "language": "python",
   "name": "python3"
  },
  "language_info": {
   "codemirror_mode": {
    "name": "ipython",
    "version": 3
   },
   "file_extension": ".py",
   "mimetype": "text/x-python",
   "name": "python",
   "nbconvert_exporter": "python",
   "pygments_lexer": "ipython3",
   "version": "3.11.8"
  }
 },
 "nbformat": 4,
 "nbformat_minor": 2
}
