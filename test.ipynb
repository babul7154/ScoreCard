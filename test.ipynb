{
 "cells": [
  {
   "cell_type": "code",
   "execution_count": 5,
   "metadata": {},
   "outputs": [
    {
     "name": "stdout",
     "output_type": "stream",
     "text": [
      "['Name', 'Age']\n",
      "['Arti', '20']\n",
      "['Kalam', '60']\n",
      "['Atul', '25']\n",
      "['Krishnan', '24']\n",
      "['Sahana', '20']\n"
     ]
    }
   ],
   "source": [
    "import csv\n",
    "\n",
    "file_1 = \"C:\\\\Users\\\\IITM\\\\Documents\\\\iitm python\\\\ncsv.csv\"\n",
    "f = open(file_1)\n",
    "file_content = csv.reader(f)\n",
    "for row in file_content:\n",
    "    print(row)"
   ]
  },
  {
   "cell_type": "code",
   "execution_count": 21,
   "metadata": {},
   "outputs": [
    {
     "name": "stdout",
     "output_type": "stream",
     "text": [
      "{'1': '4', '2': '5', '3': '6'}\n",
      "{'1': '7', '2': '8', '3': '9'}\n"
     ]
    }
   ],
   "source": [
    "import csv\n",
    "\n",
    "file_1 = \"C:\\\\Users\\\\IITM\\\\Documents\\\\iitm python\\\\ncsv.csv\"\n",
    "f = open(file_1)\n",
    "file_content = csv.DictReader(f)\n",
    "for row in file_content:\n",
    "    print(row)"
   ]
  },
  {
   "cell_type": "code",
   "execution_count": 26,
   "metadata": {},
   "outputs": [],
   "source": [
    "import csv\n",
    "\n",
    "with open(\"eggs.csv\", \"w\", newline=\"\") as csvfile:\n",
    "    spamwriter = csv.writer(\n",
    "        csvfile, delimiter=\" \", quotechar=\"|\", quoting=csv.QUOTE_MINIMAL\n",
    "    )\n",
    "    spamwriter.writerow(\"chicks\")\n",
    "    spamwriter.writerow(\"chicken\")"
   ]
  },
  {
   "cell_type": "code",
   "execution_count": 29,
   "metadata": {},
   "outputs": [],
   "source": [
    "import csv\n",
    "\n",
    "with open(\"names.csv\", \"w\", newline=\"\") as csvfile:\n",
    "    fieldnames = [\"first_name\", \"last_name\"]\n",
    "    writer = csv.DictWriter(csvfile, fieldnames=fieldnames)\n",
    "\n",
    "    writer.writeheader()\n",
    "    writer.writerow({\"first_name\": \"Baked\", \"last_name\": \"Beans\"})\n",
    "    writer.writerow({\"first_name\": \"Lovely\", \"last_name\": \"Spam\"})\n",
    "    writer.writerow({\"first_name\": \"Wonderful\", \"last_name\": 1})"
   ]
  },
  {
   "cell_type": "code",
   "execution_count": null,
   "metadata": {},
   "outputs": [],
   "source": []
  }
 ],
 "metadata": {
  "kernelspec": {
   "display_name": "Python 3",
   "language": "python",
   "name": "python3"
  },
  "language_info": {
   "codemirror_mode": {
    "name": "ipython",
    "version": 3
   },
   "file_extension": ".py",
   "mimetype": "text/x-python",
   "name": "python",
   "nbconvert_exporter": "python",
   "pygments_lexer": "ipython3",
   "version": "3.11.8"
  }
 },
 "nbformat": 4,
 "nbformat_minor": 2
}
