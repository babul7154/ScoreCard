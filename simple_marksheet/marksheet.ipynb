{
 "cells": [
  {
   "cell_type": "code",
   "execution_count": 1,
   "metadata": {},
   "outputs": [],
   "source": [
    "import csv"
   ]
  },
  {
   "cell_type": "code",
   "execution_count": 2,
   "metadata": {},
   "outputs": [
    {
     "name": "stdout",
     "output_type": "stream",
     "text": [
      "{'CardNo': '0', 'Name': 'Bhuvanesh', 'Gender': 'M', 'DateOfBirth': '44142', 'CityTown': 'Erode', 'Mathematics': '68', 'Physics': '64', 'Chemistry': '78', 'Total': '210'}\n",
      "{'CardNo': '1', 'Name': 'Harish', 'Gender': 'M', 'DateOfBirth': '43985', 'CityTown': 'Salem', 'Mathematics': '62', 'Physics': '45', 'Chemistry': '91', 'Total': '198'}\n",
      "{'CardNo': '2', 'Name': 'Shashank', 'Gender': 'M', 'DateOfBirth': '43834', 'CityTown': 'Chennai', 'Mathematics': '57', 'Physics': '54', 'Chemistry': '77', 'Total': '188'}\n",
      "{'CardNo': '3', 'Name': 'Rida', 'Gender': 'F', 'DateOfBirth': '43956', 'CityTown': 'Chennai', 'Mathematics': '42', 'Physics': '53', 'Chemistry': '78', 'Total': '173'}\n",
      "{'CardNo': '4', 'Name': 'Ritika', 'Gender': 'F', 'DateOfBirth': '44152', 'CityTown': 'Madurai', 'Mathematics': '87', 'Physics': '64', 'Chemistry': '89', 'Total': '240'}\n",
      "{'CardNo': '5', 'Name': 'Akshaya', 'Gender': 'F', 'DateOfBirth': '43869', 'CityTown': 'Chennai', 'Mathematics': '71', 'Physics': '92', 'Chemistry': '84', 'Total': '247'}\n",
      "{'CardNo': '6', 'Name': 'Sameer', 'Gender': 'M', 'DateOfBirth': '43913', 'CityTown': 'Ambur', 'Mathematics': '81', 'Physics': '82', 'Chemistry': '87', 'Total': '250'}\n",
      "{'CardNo': '7', 'Name': 'Aditya', 'Gender': 'M', 'DateOfBirth': '43905', 'CityTown': 'Vellore', 'Mathematics': '84', 'Physics': '92', 'Chemistry': '76', 'Total': '252'}\n",
      "{'CardNo': '8', 'Name': 'Surya', 'Gender': 'M', 'DateOfBirth': '43889', 'CityTown': 'Bengaluru', 'Mathematics': '74', 'Physics': '64', 'Chemistry': '51', 'Total': '189'}\n",
      "{'CardNo': '9', 'Name': 'Clarence', 'Gender': 'M', 'DateOfBirth': '44171', 'CityTown': 'Bengaluru', 'Mathematics': '63', 'Physics': '88', 'Chemistry': '73', 'Total': '224'}\n",
      "{'CardNo': '10', 'Name': 'Kavya', 'Gender': 'F', 'DateOfBirth': '43842', 'CityTown': 'Chennai', 'Mathematics': '64', 'Physics': '72', 'Chemistry': '68', 'Total': '204'}\n",
      "{'CardNo': '11', 'Name': 'Rahul', 'Gender': 'M', 'DateOfBirth': '43951', 'CityTown': 'Bengaluru', 'Mathematics': '97', 'Physics': '92', 'Chemistry': '92', 'Total': '281'}\n",
      "{'CardNo': '12', 'Name': 'Srinidhi', 'Gender': 'F', 'DateOfBirth': '43844', 'CityTown': 'Chennai', 'Mathematics': '52', 'Physics': '64', 'Chemistry': '71', 'Total': '187'}\n",
      "{'CardNo': '13', 'Name': 'Gopi', 'Gender': 'M', 'DateOfBirth': '43957', 'CityTown': 'Madurai', 'Mathematics': '65', 'Physics': '73', 'Chemistry': '89', 'Total': '227'}\n",
      "{'CardNo': '14', 'Name': 'Sophia', 'Gender': 'F', 'DateOfBirth': '44035', 'CityTown': 'Trichy', 'Mathematics': '89', 'Physics': '62', 'Chemistry': '93', 'Total': '244'}\n",
      "{'CardNo': '15', 'Name': 'Goutami', 'Gender': 'F', 'DateOfBirth': '44096', 'CityTown': 'Theni', 'Mathematics': '76', 'Physics': '58', 'Chemistry': '90', 'Total': '224'}\n",
      "{'CardNo': '16', 'Name': 'Tauseef', 'Gender': 'M', 'DateOfBirth': '44195', 'CityTown': 'Trichy', 'Mathematics': '87', 'Physics': '86', 'Chemistry': '43', 'Total': '216'}\n",
      "{'CardNo': '17', 'Name': 'Arshad', 'Gender': 'M', 'DateOfBirth': '44179', 'CityTown': 'Chennai', 'Mathematics': '62', 'Physics': '81', 'Chemistry': '67', 'Total': '210'}\n",
      "{'CardNo': '18', 'Name': 'Abirami', 'Gender': 'F', 'DateOfBirth': '44113', 'CityTown': 'Erode', 'Mathematics': '72', 'Physics': '92', 'Chemistry': '97', 'Total': '261'}\n",
      "{'CardNo': '19', 'Name': 'Vetrivel', 'Gender': 'M', 'DateOfBirth': '44073', 'CityTown': 'Trichy', 'Mathematics': '56', 'Physics': '78', 'Chemistry': '62', 'Total': '196'}\n",
      "{'CardNo': '20', 'Name': 'Kalyan', 'Gender': 'M', 'DateOfBirth': '44091', 'CityTown': 'Vellore', 'Mathematics': '93', 'Physics': '68', 'Chemistry': '91', 'Total': '252'}\n",
      "{'CardNo': '21', 'Name': 'Monika', 'Gender': 'F', 'DateOfBirth': '43905', 'CityTown': 'Bengaluru', 'Mathematics': '78', 'Physics': '69', 'Chemistry': '74', 'Total': '221'}\n",
      "{'CardNo': '22', 'Name': 'Priya', 'Gender': 'F', 'DateOfBirth': '44029', 'CityTown': 'Nagercoil', 'Mathematics': '62', 'Physics': '62', 'Chemistry': '57', 'Total': '181'}\n",
      "{'CardNo': '23', 'Name': 'Deepika', 'Gender': 'F', 'DateOfBirth': '43964', 'CityTown': 'Bengaluru', 'Mathematics': '97', 'Physics': '91', 'Chemistry': '88', 'Total': '276'}\n",
      "{'CardNo': '24', 'Name': 'Siddharth', 'Gender': 'M', 'DateOfBirth': '44191', 'CityTown': 'Madurai', 'Mathematics': '44', 'Physics': '72', 'Chemistry': '58', 'Total': '174'}\n",
      "{'CardNo': '25', 'Name': 'Geeta', 'Gender': 'F', 'DateOfBirth': '43967', 'CityTown': 'Chennai', 'Mathematics': '87', 'Physics': '75', 'Chemistry': '92', 'Total': '254'}\n",
      "{'CardNo': '26', 'Name': 'JK', 'Gender': 'M', 'DateOfBirth': '44034', 'CityTown': 'Chennai', 'Mathematics': '74', 'Physics': '71', 'Chemistry': '82', 'Total': '227'}\n",
      "{'CardNo': '27', 'Name': 'Jagan', 'Gender': 'M', 'DateOfBirth': '43894', 'CityTown': 'Madurai', 'Mathematics': '81', 'Physics': '76', 'Chemistry': '52', 'Total': '209'}\n",
      "{'CardNo': '28', 'Name': 'Nisha', 'Gender': 'F', 'DateOfBirth': '44084', 'CityTown': 'Madurai', 'Mathematics': '74', 'Physics': '83', 'Chemistry': '83', 'Total': '240'}\n",
      "{'CardNo': '29', 'Name': 'Naveen', 'Gender': 'M', 'DateOfBirth': '44117', 'CityTown': 'Vellore', 'Mathematics': '72', 'Physics': '66', 'Chemistry': '81', 'Total': '219'}\n"
     ]
    }
   ],
   "source": [
    "f = open(\"Scores1.csv\", \"r\")\n",
    "file_cont = csv.DictReader(f)\n",
    "for row in file_cont:\n",
    "    print(row)"
   ]
  },
  {
   "cell_type": "code",
   "execution_count": 12,
   "metadata": {
    "notebookRunGroups": {
     "groupValue": "2"
    }
   },
   "outputs": [
    {
     "name": "stdout",
     "output_type": "stream",
     "text": [
      "All student ScoreCard Generated\n"
     ]
    }
   ],
   "source": [
    "def marksheet(marks):\n",
    "    if marks >= 90:\n",
    "        return \"A+\"\n",
    "    elif marks >= 80:\n",
    "        return \"A\"\n",
    "    elif marks >= 70:\n",
    "        return \"B\"\n",
    "    elif marks >= 60:\n",
    "        return \"C\"\n",
    "    elif marks >= 50:\n",
    "        return \"D\"\n",
    "    else:\n",
    "        return \"U\"\n",
    "\n",
    "\n",
    "# todo calculating percentile\n",
    "def percentile(lst):\n",
    "    value_lst = [i for i in lst if i < marks]\n",
    "    count = len(value_lst)\n",
    "    per = (count / len(lst)) * 100\n",
    "    return per\n",
    "\n",
    "\n",
    "lst = list()\n",
    "f = open(\"Scores1.csv\", \"r\", encoding=\"utf-8\")\n",
    "file_cont = csv.DictReader(f)\n",
    "for data in file_cont:\n",
    "    name = data[\"Name\"]\n",
    "    marks_phy = int(data[\"Physics\"])\n",
    "    marks_chem = int(data[\"Chemistry\"])\n",
    "    marks_maths = int(data[\"Mathematics\"])\n",
    "    sex = data[\"Gender\"]\n",
    "    town = data[\"CityTown\"]\n",
    "    card = data[\"CardNo\"]\n",
    "    # * computing total marks in all subject\n",
    "\n",
    "    total = int(data[\"Chemistry\"]) + int(data[\"Mathematics\"]) + int(data[\"Physics\"])\n",
    "    marks = (total / 300) * 100\n",
    "\n",
    "    # * for calculating percentile\n",
    "\n",
    "    lst.append(marks)\n",
    "\n",
    "    # * getting grades\n",
    "\n",
    "    grade = marksheet(marks)\n",
    "\n",
    "    # todo creating student's file\n",
    "    file_loc = \"C:\\\\Users\\\\IITM\\\\Documents\\\\iitm python\\\\simple_marksheet\\\\studenttxt\\\\\"\n",
    "    #! name+ to create file by student name\n",
    "\n",
    "    newfile = open(file_loc + name + \".txt\", \"w\")\n",
    "    newfile.write(f\"Roll no:{card}\\t\\t ScoreCard for 1st Term\")\n",
    "    newfile.write(\"\\n\")\n",
    "    newfile.write(\"{:*^58}\".format(\"\"))\n",
    "    newfile.write(\"\\n\")\n",
    "    newfile.write(\n",
    "        \"{}{}{}{}{}{}\".format(\n",
    "            \"Your name:\", name, \"\\t\\tGender:\", sex, \"\\t\\tCityTown:\", town\n",
    "        )\n",
    "    )\n",
    "    newfile.write(\"\\n\")\n",
    "    newfile.write(f\"Physics:{marks_phy}\")\n",
    "    newfile.write(\"\\n\")\n",
    "    newfile.write(f\"Chemistry:{marks_chem}\")\n",
    "    newfile.write(\"\\n\")\n",
    "    newfile.write(f\"Mathematics:{marks_maths}\")\n",
    "    newfile.write(\"\\n\")\n",
    "    newfile.write(f\"Total Marks:{total}\")\n",
    "    newfile.write(\"\\n\")\n",
    "    newfile.write(f\"Percentage:{round(marks,2)}\\n\")\n",
    "    newfile.write(f\"Percentile:{round(percentile(lst),2)} \")\n",
    "    newfile.write(\"\\n\\n\")\n",
    "    newfile.write(f\"You have got :{grade} grade\\n\")\n",
    "    newfile.close()  #! it is very important to close the file after opening\n",
    "\n",
    "\n",
    "print(\"All student ScoreCard Generated\")"
   ]
  },
  {
   "cell_type": "markdown",
   "metadata": {},
   "source": [
    "<b>Getting Same result using Pandas(percentile calculation is excluded in below code)</b>\n"
   ]
  },
  {
   "cell_type": "code",
   "execution_count": 18,
   "metadata": {},
   "outputs": [],
   "source": [
    "import pandas as pd\n",
    "\n",
    "\n",
    "def marksheet(marks):\n",
    "    if marks >= 90:\n",
    "        return \"A+\"\n",
    "    elif marks >= 80:\n",
    "        return \"A\"\n",
    "    elif marks >= 70:\n",
    "        return \"B\"\n",
    "    elif marks >= 60:\n",
    "        return \"C\"\n",
    "    elif marks >= 50:\n",
    "        return \"D\"\n",
    "    else:\n",
    "        return \"U\"\n",
    "\n",
    "\n",
    "df = pd.read_csv(\"Scores1.csv\")\n",
    "for index, row in df.iterrows():\n",
    "    name = row[\"Name\"]\n",
    "    marks_phy = int(row[\"Physics\"])\n",
    "    marks_chem = int(row[\"Chemistry\"])\n",
    "    marks_maths = int(row[\"Mathematics\"])\n",
    "    sex = row[\"Gender\"]\n",
    "    town = row[\"CityTown\"]\n",
    "    card = row[\"CardNo\"]\n",
    "\n",
    "    total = marks_phy + marks_chem + marks_maths\n",
    "    marks = (total / 300) * 100\n",
    "\n",
    "    grade = marksheet(marks)\n",
    "\n",
    "    with open(name + \".txt\", \"w\") as newfile:\n",
    "        newfile.write(f\"Roll no:{card}\\t\\t ScoreCard for 1st Term\\n\")\n",
    "        newfile.write(\"{:*^50}\\n\".format(\"\"))\n",
    "        newfile.write(\n",
    "            \"{}{}{}{}{}{}\\n\".format(\n",
    "                \"Your name:\", name, \"\\t\\tGender:\", sex, \"\\t\\tCityTown:\", town\n",
    "            )\n",
    "        )\n",
    "        newfile.write(f\"Physics:{marks_phy}\\n\")\n",
    "        newfile.write(f\"Chemistry:{marks_chem}\\n\")\n",
    "        newfile.write(f\"Mathematics:{marks_maths}\\n\")\n",
    "        newfile.write(f\"Total Marks:{total}\\n\")\n",
    "        newfile.write(f\"Percentage:{round(marks,2)}\\n\\n\")\n",
    "        newfile.write(f\"You have got :{grade} grade\")"
   ]
  },
  {
   "cell_type": "code",
   "execution_count": null,
   "metadata": {},
   "outputs": [],
   "source": []
  }
 ],
 "metadata": {
  "kernelspec": {
   "display_name": "Python 3",
   "language": "python",
   "name": "python3"
  },
  "language_info": {
   "codemirror_mode": {
    "name": "ipython",
    "version": 3
   },
   "file_extension": ".py",
   "mimetype": "text/x-python",
   "name": "python",
   "nbconvert_exporter": "python",
   "pygments_lexer": "ipython3",
   "version": "3.11.8"
  }
 },
 "nbformat": 4,
 "nbformat_minor": 2
}
